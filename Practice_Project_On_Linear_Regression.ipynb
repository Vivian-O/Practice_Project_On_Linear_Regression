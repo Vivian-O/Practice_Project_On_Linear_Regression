{
 "cells": [
  {
   "cell_type": "markdown",
   "id": "d3608705",
   "metadata": {},
   "source": [
    "## Project Decription\n",
    "\n",
    "A jewelry company wants to put in a bid to purchase a large set of diamonds, but is unsure how much it should bid. You are \n",
    "required to make recommendation on how much to bid. The company generally purchases diamonds from distributors at 70% of the actual price, so your recommended bid price should represent that."
   ]
  },
  {
   "cell_type": "markdown",
   "id": "4f590559",
   "metadata": {},
   "source": [
    "## Background Information\n",
    "\n",
    "A diamond distributor has recently decided to exit the market and has put up a set of 3,000 diamonds up for auction. Seeing this as a great opportunity to expand its inventory, a jewelry company has shown interest in making a bid. To decide how much to bid, you will use a large database of diamond prices to build a model to predict the price of a diamond based on its attributes. Then you will use the results of that model to make a recommendation for how much the company should bid."
   ]
  },
  {
   "cell_type": "markdown",
   "id": "6878e0b3",
   "metadata": {},
   "source": [
    "### About The Data\n",
    "\n",
    "There are two datasets. diamonds.csv contains the data used to build the regression model. new_diamonds_new.csv contains the data for the diamonds the company would like to purchase. Both datasets contain carat, cut, and clarity data for each diamond. Only the diamonds.csv dataset has prices. You'll be predicting prices for the new_diamonds.csv dataset."
   ]
  },
  {
   "cell_type": "markdown",
   "id": "1b463796",
   "metadata": {},
   "source": [
    "### About The Features\n",
    "\n",
    "CARAT represents the weight of the diamond, and is a numerical variable.\n",
    "CUT represents the quality of the cut of the diamond, and falls into 5 categories: fair, good, very good, ideal, and premium.\n",
    "CLARITY represents the internal purity of the diamond, and falls into 8 categories: I1, SI2, SI1, VS2, VS1, VVS2, VVS1, and IF (in order from least to most pure).\n",
    "COLOR represents the color of the diamond, and is rated D through J, with D being the most colorless (and valuable) and J being the most yellow."
   ]
  },
  {
   "cell_type": "markdown",
   "id": "32fd1007",
   "metadata": {},
   "source": [
    "#### Question 1\n",
    "What decisions need to be made?"
   ]
  },
  {
   "cell_type": "markdown",
   "id": "f7bd93fc",
   "metadata": {},
   "source": [
    "We want to compare the qualities of the previous diamond purchased with the new diamonds to enable us determine and decide on what price to bid "
   ]
  },
  {
   "cell_type": "markdown",
   "id": "5a44a7be",
   "metadata": {},
   "source": [
    "#### Question2\n",
    "What information do we need to inform this decision?"
   ]
  },
  {
   "cell_type": "markdown",
   "id": "1b3cbd94",
   "metadata": {},
   "source": [
    "Information needed includes Carat, Cut, Clarity, Color and Price"
   ]
  },
  {
   "cell_type": "markdown",
   "id": "1068b311",
   "metadata": {},
   "source": [
    "#### Question 3\n",
    "What type of model should be used?"
   ]
  },
  {
   "cell_type": "markdown",
   "id": "bf88826e",
   "metadata": {},
   "source": [
    "Model options includes Linear Regression Model, Decision Tree Model, Forest Model as it is a data rich numeric file."
   ]
  },
  {
   "cell_type": "markdown",
   "id": "91031820",
   "metadata": {},
   "source": [
    "#### Question 4\n",
    "What are the feature variables and the output variable?"
   ]
  },
  {
   "cell_type": "markdown",
   "id": "cd2c10e8",
   "metadata": {},
   "source": [
    "Feature Variables include: Carat, Cut, Clarity, Colour\n",
    "Output Variable includes: Price"
   ]
  },
  {
   "cell_type": "code",
   "execution_count": 1,
   "id": "adb783f2",
   "metadata": {},
   "outputs": [],
   "source": [
    "# import the libraries\n",
    "import pandas as pd"
   ]
  },
  {
   "cell_type": "code",
   "execution_count": 2,
   "id": "4529fb30",
   "metadata": {},
   "outputs": [],
   "source": [
    "# import the training dataset\n",
    "diamonds = pd.read_csv(\"Train_DS_diamonds.csv\")"
   ]
  },
  {
   "cell_type": "code",
   "execution_count": 3,
   "id": "000d2dbd",
   "metadata": {},
   "outputs": [
    {
     "data": {
      "text/html": [
       "<div>\n",
       "<style scoped>\n",
       "    .dataframe tbody tr th:only-of-type {\n",
       "        vertical-align: middle;\n",
       "    }\n",
       "\n",
       "    .dataframe tbody tr th {\n",
       "        vertical-align: top;\n",
       "    }\n",
       "\n",
       "    .dataframe thead th {\n",
       "        text-align: right;\n",
       "    }\n",
       "</style>\n",
       "<table border=\"1\" class=\"dataframe\">\n",
       "  <thead>\n",
       "    <tr style=\"text-align: right;\">\n",
       "      <th></th>\n",
       "      <th>carat</th>\n",
       "      <th>cut</th>\n",
       "      <th>color</th>\n",
       "      <th>clarity</th>\n",
       "      <th>price</th>\n",
       "    </tr>\n",
       "  </thead>\n",
       "  <tbody>\n",
       "    <tr>\n",
       "      <th>0</th>\n",
       "      <td>0.51</td>\n",
       "      <td>Premium</td>\n",
       "      <td>F</td>\n",
       "      <td>VS1</td>\n",
       "      <td>1749</td>\n",
       "    </tr>\n",
       "    <tr>\n",
       "      <th>1</th>\n",
       "      <td>2.25</td>\n",
       "      <td>Fair</td>\n",
       "      <td>G</td>\n",
       "      <td>I1</td>\n",
       "      <td>7069</td>\n",
       "    </tr>\n",
       "    <tr>\n",
       "      <th>2</th>\n",
       "      <td>0.70</td>\n",
       "      <td>Very Good</td>\n",
       "      <td>E</td>\n",
       "      <td>VS2</td>\n",
       "      <td>2757</td>\n",
       "    </tr>\n",
       "    <tr>\n",
       "      <th>3</th>\n",
       "      <td>0.47</td>\n",
       "      <td>Good</td>\n",
       "      <td>F</td>\n",
       "      <td>VS1</td>\n",
       "      <td>1243</td>\n",
       "    </tr>\n",
       "    <tr>\n",
       "      <th>4</th>\n",
       "      <td>0.30</td>\n",
       "      <td>Ideal</td>\n",
       "      <td>G</td>\n",
       "      <td>VVS1</td>\n",
       "      <td>789</td>\n",
       "    </tr>\n",
       "    <tr>\n",
       "      <th>...</th>\n",
       "      <td>...</td>\n",
       "      <td>...</td>\n",
       "      <td>...</td>\n",
       "      <td>...</td>\n",
       "      <td>...</td>\n",
       "    </tr>\n",
       "    <tr>\n",
       "      <th>49995</th>\n",
       "      <td>0.71</td>\n",
       "      <td>Ideal</td>\n",
       "      <td>H</td>\n",
       "      <td>VVS1</td>\n",
       "      <td>2918</td>\n",
       "    </tr>\n",
       "    <tr>\n",
       "      <th>49996</th>\n",
       "      <td>0.43</td>\n",
       "      <td>Ideal</td>\n",
       "      <td>G</td>\n",
       "      <td>VVS2</td>\n",
       "      <td>1056</td>\n",
       "    </tr>\n",
       "    <tr>\n",
       "      <th>49997</th>\n",
       "      <td>1.14</td>\n",
       "      <td>Premium</td>\n",
       "      <td>G</td>\n",
       "      <td>VS2</td>\n",
       "      <td>6619</td>\n",
       "    </tr>\n",
       "    <tr>\n",
       "      <th>49998</th>\n",
       "      <td>1.01</td>\n",
       "      <td>Premium</td>\n",
       "      <td>E</td>\n",
       "      <td>VS2</td>\n",
       "      <td>6787</td>\n",
       "    </tr>\n",
       "    <tr>\n",
       "      <th>49999</th>\n",
       "      <td>1.77</td>\n",
       "      <td>Premium</td>\n",
       "      <td>J</td>\n",
       "      <td>VS2</td>\n",
       "      <td>9428</td>\n",
       "    </tr>\n",
       "  </tbody>\n",
       "</table>\n",
       "<p>50000 rows × 5 columns</p>\n",
       "</div>"
      ],
      "text/plain": [
       "       carat        cut color clarity  price\n",
       "0       0.51    Premium     F     VS1   1749\n",
       "1       2.25       Fair     G      I1   7069\n",
       "2       0.70  Very Good     E     VS2   2757\n",
       "3       0.47       Good     F     VS1   1243\n",
       "4       0.30      Ideal     G    VVS1    789\n",
       "...      ...        ...   ...     ...    ...\n",
       "49995   0.71      Ideal     H    VVS1   2918\n",
       "49996   0.43      Ideal     G    VVS2   1056\n",
       "49997   1.14    Premium     G     VS2   6619\n",
       "49998   1.01    Premium     E     VS2   6787\n",
       "49999   1.77    Premium     J     VS2   9428\n",
       "\n",
       "[50000 rows x 5 columns]"
      ]
     },
     "execution_count": 3,
     "metadata": {},
     "output_type": "execute_result"
    }
   ],
   "source": [
    "# inspect the dataset\n",
    "diamonds"
   ]
  },
  {
   "cell_type": "code",
   "execution_count": 4,
   "id": "1c94973c",
   "metadata": {},
   "outputs": [
    {
     "name": "stdout",
     "output_type": "stream",
     "text": [
      "0        1749\n",
      "1        7069\n",
      "2        2757\n",
      "3        1243\n",
      "4         789\n",
      "         ... \n",
      "49995    2918\n",
      "49996    1056\n",
      "49997    6619\n",
      "49998    6787\n",
      "49999    9428\n",
      "Name: price, Length: 50000, dtype: int64\n"
     ]
    }
   ],
   "source": [
    "print(diamonds[\"price\"])"
   ]
  },
  {
   "cell_type": "code",
   "execution_count": 5,
   "id": "9387404b",
   "metadata": {},
   "outputs": [
    {
     "name": "stdout",
     "output_type": "stream",
     "text": [
      "196955175\n"
     ]
    }
   ],
   "source": [
    "sum_price = print(diamonds[\"price\"].sum())"
   ]
  },
  {
   "cell_type": "code",
   "execution_count": 6,
   "id": "6dce04cc",
   "metadata": {},
   "outputs": [
    {
     "name": "stdout",
     "output_type": "stream",
     "text": [
      "137868622.5\n"
     ]
    }
   ],
   "source": [
    "print(diamonds[\"price\"].sum() * 0.7)"
   ]
  },
  {
   "cell_type": "code",
   "execution_count": 7,
   "id": "0a4bf9f2",
   "metadata": {},
   "outputs": [
    {
     "name": "stdout",
     "output_type": "stream",
     "text": [
      "<class 'pandas.core.frame.DataFrame'>\n",
      "RangeIndex: 50000 entries, 0 to 49999\n",
      "Data columns (total 5 columns):\n",
      " #   Column   Non-Null Count  Dtype  \n",
      "---  ------   --------------  -----  \n",
      " 0   carat    50000 non-null  float64\n",
      " 1   cut      50000 non-null  object \n",
      " 2   color    50000 non-null  object \n",
      " 3   clarity  50000 non-null  object \n",
      " 4   price    50000 non-null  int64  \n",
      "dtypes: float64(1), int64(1), object(3)\n",
      "memory usage: 1.9+ MB\n"
     ]
    }
   ],
   "source": [
    "diamonds.info()"
   ]
  },
  {
   "cell_type": "code",
   "execution_count": 8,
   "id": "44c36cc7",
   "metadata": {},
   "outputs": [],
   "source": [
    "# do some feature engineering on the dataset \n",
    "\n",
    "def cut_transform(diamonds):\n",
    "    value_in_column = diamonds[\"cut\"]\n",
    "    if value_in_column == \"Fair\":\n",
    "        result = 1\n",
    "    elif value_in_column == \"Good\":\n",
    "        result = 2\n",
    "    elif value_in_column == \"Very Good\":\n",
    "        result = 3\n",
    "    elif value_in_column == \"Ideal\":\n",
    "        result = 4\n",
    "    elif value_in_column == \"Premium\":\n",
    "        result = 5\n",
    "    return result"
   ]
  },
  {
   "cell_type": "code",
   "execution_count": 9,
   "id": "d5ebd0f6",
   "metadata": {},
   "outputs": [],
   "source": [
    "diamonds[\"cut_ord\"] = diamonds.apply(cut_transform, axis = \"columns\")"
   ]
  },
  {
   "cell_type": "code",
   "execution_count": 10,
   "id": "c5c66f3e",
   "metadata": {},
   "outputs": [],
   "source": [
    "def color_transform(diamonds):\n",
    "    value_in_column = diamonds[\"color\"]\n",
    "    if value_in_column == \"J\":\n",
    "        result = 1\n",
    "    elif value_in_column == \"I\":\n",
    "        result = 2\n",
    "    elif value_in_column == \"H\":\n",
    "        result = 3\n",
    "    elif value_in_column == \"G\":\n",
    "        result = 4\n",
    "    elif value_in_column == \"F\":\n",
    "        result = 5\n",
    "    elif value_in_column == \"E\":\n",
    "        result = 6\n",
    "    elif value_in_column == \"D\":\n",
    "        result = 7\n",
    "    return result"
   ]
  },
  {
   "cell_type": "code",
   "execution_count": 11,
   "id": "d71b9325",
   "metadata": {},
   "outputs": [],
   "source": [
    "diamonds[\"color_ord\"] = diamonds.apply(color_transform, axis = \"columns\")"
   ]
  },
  {
   "cell_type": "code",
   "execution_count": 12,
   "id": "252e8087",
   "metadata": {},
   "outputs": [],
   "source": [
    "def clarity_transform(diamonds):\n",
    "    value_in_column = diamonds[\"clarity\"]\n",
    "    if value_in_column == \"I1\":\n",
    "        result = 1\n",
    "    elif value_in_column == \"SI2\":\n",
    "        result = 2\n",
    "    elif value_in_column == \"SI1\":\n",
    "        result = 3\n",
    "    elif value_in_column == \"VS2\":\n",
    "        result = 4\n",
    "    elif value_in_column == \"VS1\":\n",
    "        result = 5\n",
    "    elif value_in_column == \"VVS2\":\n",
    "        result = 6\n",
    "    elif value_in_column == \"VVS1\":\n",
    "        result = 7\n",
    "    elif value_in_column == \"IF\":\n",
    "        result = 8\n",
    "    return result"
   ]
  },
  {
   "cell_type": "code",
   "execution_count": 13,
   "id": "4053e49b",
   "metadata": {},
   "outputs": [],
   "source": [
    "diamonds[\"clarity_ord\"] = diamonds.apply(clarity_transform, axis = \"columns\")"
   ]
  },
  {
   "cell_type": "code",
   "execution_count": 14,
   "id": "9e4858ee",
   "metadata": {},
   "outputs": [
    {
     "data": {
      "text/html": [
       "<div>\n",
       "<style scoped>\n",
       "    .dataframe tbody tr th:only-of-type {\n",
       "        vertical-align: middle;\n",
       "    }\n",
       "\n",
       "    .dataframe tbody tr th {\n",
       "        vertical-align: top;\n",
       "    }\n",
       "\n",
       "    .dataframe thead th {\n",
       "        text-align: right;\n",
       "    }\n",
       "</style>\n",
       "<table border=\"1\" class=\"dataframe\">\n",
       "  <thead>\n",
       "    <tr style=\"text-align: right;\">\n",
       "      <th></th>\n",
       "      <th>carat</th>\n",
       "      <th>cut</th>\n",
       "      <th>color</th>\n",
       "      <th>clarity</th>\n",
       "      <th>price</th>\n",
       "      <th>cut_ord</th>\n",
       "      <th>color_ord</th>\n",
       "      <th>clarity_ord</th>\n",
       "    </tr>\n",
       "  </thead>\n",
       "  <tbody>\n",
       "    <tr>\n",
       "      <th>0</th>\n",
       "      <td>0.51</td>\n",
       "      <td>Premium</td>\n",
       "      <td>F</td>\n",
       "      <td>VS1</td>\n",
       "      <td>1749</td>\n",
       "      <td>5</td>\n",
       "      <td>5</td>\n",
       "      <td>5</td>\n",
       "    </tr>\n",
       "    <tr>\n",
       "      <th>1</th>\n",
       "      <td>2.25</td>\n",
       "      <td>Fair</td>\n",
       "      <td>G</td>\n",
       "      <td>I1</td>\n",
       "      <td>7069</td>\n",
       "      <td>1</td>\n",
       "      <td>4</td>\n",
       "      <td>1</td>\n",
       "    </tr>\n",
       "    <tr>\n",
       "      <th>2</th>\n",
       "      <td>0.70</td>\n",
       "      <td>Very Good</td>\n",
       "      <td>E</td>\n",
       "      <td>VS2</td>\n",
       "      <td>2757</td>\n",
       "      <td>3</td>\n",
       "      <td>6</td>\n",
       "      <td>4</td>\n",
       "    </tr>\n",
       "    <tr>\n",
       "      <th>3</th>\n",
       "      <td>0.47</td>\n",
       "      <td>Good</td>\n",
       "      <td>F</td>\n",
       "      <td>VS1</td>\n",
       "      <td>1243</td>\n",
       "      <td>2</td>\n",
       "      <td>5</td>\n",
       "      <td>5</td>\n",
       "    </tr>\n",
       "    <tr>\n",
       "      <th>4</th>\n",
       "      <td>0.30</td>\n",
       "      <td>Ideal</td>\n",
       "      <td>G</td>\n",
       "      <td>VVS1</td>\n",
       "      <td>789</td>\n",
       "      <td>4</td>\n",
       "      <td>4</td>\n",
       "      <td>7</td>\n",
       "    </tr>\n",
       "    <tr>\n",
       "      <th>...</th>\n",
       "      <td>...</td>\n",
       "      <td>...</td>\n",
       "      <td>...</td>\n",
       "      <td>...</td>\n",
       "      <td>...</td>\n",
       "      <td>...</td>\n",
       "      <td>...</td>\n",
       "      <td>...</td>\n",
       "    </tr>\n",
       "    <tr>\n",
       "      <th>49995</th>\n",
       "      <td>0.71</td>\n",
       "      <td>Ideal</td>\n",
       "      <td>H</td>\n",
       "      <td>VVS1</td>\n",
       "      <td>2918</td>\n",
       "      <td>4</td>\n",
       "      <td>3</td>\n",
       "      <td>7</td>\n",
       "    </tr>\n",
       "    <tr>\n",
       "      <th>49996</th>\n",
       "      <td>0.43</td>\n",
       "      <td>Ideal</td>\n",
       "      <td>G</td>\n",
       "      <td>VVS2</td>\n",
       "      <td>1056</td>\n",
       "      <td>4</td>\n",
       "      <td>4</td>\n",
       "      <td>6</td>\n",
       "    </tr>\n",
       "    <tr>\n",
       "      <th>49997</th>\n",
       "      <td>1.14</td>\n",
       "      <td>Premium</td>\n",
       "      <td>G</td>\n",
       "      <td>VS2</td>\n",
       "      <td>6619</td>\n",
       "      <td>5</td>\n",
       "      <td>4</td>\n",
       "      <td>4</td>\n",
       "    </tr>\n",
       "    <tr>\n",
       "      <th>49998</th>\n",
       "      <td>1.01</td>\n",
       "      <td>Premium</td>\n",
       "      <td>E</td>\n",
       "      <td>VS2</td>\n",
       "      <td>6787</td>\n",
       "      <td>5</td>\n",
       "      <td>6</td>\n",
       "      <td>4</td>\n",
       "    </tr>\n",
       "    <tr>\n",
       "      <th>49999</th>\n",
       "      <td>1.77</td>\n",
       "      <td>Premium</td>\n",
       "      <td>J</td>\n",
       "      <td>VS2</td>\n",
       "      <td>9428</td>\n",
       "      <td>5</td>\n",
       "      <td>1</td>\n",
       "      <td>4</td>\n",
       "    </tr>\n",
       "  </tbody>\n",
       "</table>\n",
       "<p>50000 rows × 8 columns</p>\n",
       "</div>"
      ],
      "text/plain": [
       "       carat        cut color clarity  price  cut_ord  color_ord  clarity_ord\n",
       "0       0.51    Premium     F     VS1   1749        5          5            5\n",
       "1       2.25       Fair     G      I1   7069        1          4            1\n",
       "2       0.70  Very Good     E     VS2   2757        3          6            4\n",
       "3       0.47       Good     F     VS1   1243        2          5            5\n",
       "4       0.30      Ideal     G    VVS1    789        4          4            7\n",
       "...      ...        ...   ...     ...    ...      ...        ...          ...\n",
       "49995   0.71      Ideal     H    VVS1   2918        4          3            7\n",
       "49996   0.43      Ideal     G    VVS2   1056        4          4            6\n",
       "49997   1.14    Premium     G     VS2   6619        5          4            4\n",
       "49998   1.01    Premium     E     VS2   6787        5          6            4\n",
       "49999   1.77    Premium     J     VS2   9428        5          1            4\n",
       "\n",
       "[50000 rows x 8 columns]"
      ]
     },
     "execution_count": 14,
     "metadata": {},
     "output_type": "execute_result"
    }
   ],
   "source": [
    "diamonds"
   ]
  },
  {
   "cell_type": "code",
   "execution_count": 15,
   "id": "b0dce97a",
   "metadata": {},
   "outputs": [],
   "source": [
    "X = diamonds.drop(columns = [\"price\",\"cut\",\"color\",\"clarity\"])"
   ]
  },
  {
   "cell_type": "code",
   "execution_count": 16,
   "id": "79b512c9",
   "metadata": {},
   "outputs": [
    {
     "data": {
      "text/html": [
       "<div>\n",
       "<style scoped>\n",
       "    .dataframe tbody tr th:only-of-type {\n",
       "        vertical-align: middle;\n",
       "    }\n",
       "\n",
       "    .dataframe tbody tr th {\n",
       "        vertical-align: top;\n",
       "    }\n",
       "\n",
       "    .dataframe thead th {\n",
       "        text-align: right;\n",
       "    }\n",
       "</style>\n",
       "<table border=\"1\" class=\"dataframe\">\n",
       "  <thead>\n",
       "    <tr style=\"text-align: right;\">\n",
       "      <th></th>\n",
       "      <th>carat</th>\n",
       "      <th>cut_ord</th>\n",
       "      <th>color_ord</th>\n",
       "      <th>clarity_ord</th>\n",
       "    </tr>\n",
       "  </thead>\n",
       "  <tbody>\n",
       "    <tr>\n",
       "      <th>0</th>\n",
       "      <td>0.51</td>\n",
       "      <td>5</td>\n",
       "      <td>5</td>\n",
       "      <td>5</td>\n",
       "    </tr>\n",
       "    <tr>\n",
       "      <th>1</th>\n",
       "      <td>2.25</td>\n",
       "      <td>1</td>\n",
       "      <td>4</td>\n",
       "      <td>1</td>\n",
       "    </tr>\n",
       "    <tr>\n",
       "      <th>2</th>\n",
       "      <td>0.70</td>\n",
       "      <td>3</td>\n",
       "      <td>6</td>\n",
       "      <td>4</td>\n",
       "    </tr>\n",
       "    <tr>\n",
       "      <th>3</th>\n",
       "      <td>0.47</td>\n",
       "      <td>2</td>\n",
       "      <td>5</td>\n",
       "      <td>5</td>\n",
       "    </tr>\n",
       "    <tr>\n",
       "      <th>4</th>\n",
       "      <td>0.30</td>\n",
       "      <td>4</td>\n",
       "      <td>4</td>\n",
       "      <td>7</td>\n",
       "    </tr>\n",
       "    <tr>\n",
       "      <th>...</th>\n",
       "      <td>...</td>\n",
       "      <td>...</td>\n",
       "      <td>...</td>\n",
       "      <td>...</td>\n",
       "    </tr>\n",
       "    <tr>\n",
       "      <th>49995</th>\n",
       "      <td>0.71</td>\n",
       "      <td>4</td>\n",
       "      <td>3</td>\n",
       "      <td>7</td>\n",
       "    </tr>\n",
       "    <tr>\n",
       "      <th>49996</th>\n",
       "      <td>0.43</td>\n",
       "      <td>4</td>\n",
       "      <td>4</td>\n",
       "      <td>6</td>\n",
       "    </tr>\n",
       "    <tr>\n",
       "      <th>49997</th>\n",
       "      <td>1.14</td>\n",
       "      <td>5</td>\n",
       "      <td>4</td>\n",
       "      <td>4</td>\n",
       "    </tr>\n",
       "    <tr>\n",
       "      <th>49998</th>\n",
       "      <td>1.01</td>\n",
       "      <td>5</td>\n",
       "      <td>6</td>\n",
       "      <td>4</td>\n",
       "    </tr>\n",
       "    <tr>\n",
       "      <th>49999</th>\n",
       "      <td>1.77</td>\n",
       "      <td>5</td>\n",
       "      <td>1</td>\n",
       "      <td>4</td>\n",
       "    </tr>\n",
       "  </tbody>\n",
       "</table>\n",
       "<p>50000 rows × 4 columns</p>\n",
       "</div>"
      ],
      "text/plain": [
       "       carat  cut_ord  color_ord  clarity_ord\n",
       "0       0.51        5          5            5\n",
       "1       2.25        1          4            1\n",
       "2       0.70        3          6            4\n",
       "3       0.47        2          5            5\n",
       "4       0.30        4          4            7\n",
       "...      ...      ...        ...          ...\n",
       "49995   0.71        4          3            7\n",
       "49996   0.43        4          4            6\n",
       "49997   1.14        5          4            4\n",
       "49998   1.01        5          6            4\n",
       "49999   1.77        5          1            4\n",
       "\n",
       "[50000 rows x 4 columns]"
      ]
     },
     "execution_count": 16,
     "metadata": {},
     "output_type": "execute_result"
    }
   ],
   "source": [
    "X"
   ]
  },
  {
   "cell_type": "code",
   "execution_count": 17,
   "id": "ccddd211",
   "metadata": {},
   "outputs": [],
   "source": [
    "y = diamonds[\"price\"]"
   ]
  },
  {
   "cell_type": "code",
   "execution_count": 18,
   "id": "ca432714",
   "metadata": {},
   "outputs": [],
   "source": [
    "from sklearn.linear_model import LinearRegression"
   ]
  },
  {
   "cell_type": "code",
   "execution_count": 19,
   "id": "033a08ce",
   "metadata": {},
   "outputs": [
    {
     "data": {
      "text/plain": [
       "LinearRegression()"
      ]
     },
     "execution_count": 19,
     "metadata": {},
     "output_type": "execute_result"
    }
   ],
   "source": [
    "# train your model\n",
    "model = LinearRegression()\n",
    "model.fit(X, y)"
   ]
  },
  {
   "cell_type": "code",
   "execution_count": 20,
   "id": "04de177a",
   "metadata": {},
   "outputs": [
    {
     "data": {
      "image/png": "[encoded data removed]",
      "text/plain": [
       "<Figure size 432x288 with 2 Axes>"
      ]
     },
     "metadata": {
      "needs_background": "light"
     },
     "output_type": "display_data"
    }
   ],
   "source": [
    "# find the correlation between the features\n",
    "import seaborn as sns\n",
    "feature_correlation = sns.heatmap(X.corr(), cmap = \"Purples\")"
   ]
  },
  {
   "cell_type": "code",
   "execution_count": 21,
   "id": "e476b990",
   "metadata": {},
   "outputs": [],
   "source": [
    "# create test and train samples from the train dataset\n",
    "from sklearn.model_selection import train_test_split\n",
    "X_train, X_test, y_train, y_test = train_test_split(X, y, test_size= .3)"
   ]
  },
  {
   "cell_type": "code",
   "execution_count": 22,
   "id": "094db188",
   "metadata": {},
   "outputs": [
    {
     "data": {
      "text/plain": [
       "LinearRegression()"
      ]
     },
     "execution_count": 22,
     "metadata": {},
     "output_type": "execute_result"
    }
   ],
   "source": [
    "model.fit(X_train, y_train)"
   ]
  },
  {
   "cell_type": "code",
   "execution_count": 23,
   "id": "df8d80be",
   "metadata": {},
   "outputs": [
    {
     "data": {
      "text/html": [
       "<div>\n",
       "<style scoped>\n",
       "    .dataframe tbody tr th:only-of-type {\n",
       "        vertical-align: middle;\n",
       "    }\n",
       "\n",
       "    .dataframe tbody tr th {\n",
       "        vertical-align: top;\n",
       "    }\n",
       "\n",
       "    .dataframe thead th {\n",
       "        text-align: right;\n",
       "    }\n",
       "</style>\n",
       "<table border=\"1\" class=\"dataframe\">\n",
       "  <thead>\n",
       "    <tr style=\"text-align: right;\">\n",
       "      <th></th>\n",
       "      <th>0</th>\n",
       "    </tr>\n",
       "  </thead>\n",
       "  <tbody>\n",
       "    <tr>\n",
       "      <th>0</th>\n",
       "      <td>3498.954516</td>\n",
       "    </tr>\n",
       "    <tr>\n",
       "      <th>1</th>\n",
       "      <td>-552.107797</td>\n",
       "    </tr>\n",
       "    <tr>\n",
       "      <th>2</th>\n",
       "      <td>1488.510551</td>\n",
       "    </tr>\n",
       "    <tr>\n",
       "      <th>3</th>\n",
       "      <td>2910.827241</td>\n",
       "    </tr>\n",
       "    <tr>\n",
       "      <th>4</th>\n",
       "      <td>57.521286</td>\n",
       "    </tr>\n",
       "    <tr>\n",
       "      <th>...</th>\n",
       "      <td>...</td>\n",
       "    </tr>\n",
       "    <tr>\n",
       "      <th>14995</th>\n",
       "      <td>4839.931049</td>\n",
       "    </tr>\n",
       "    <tr>\n",
       "      <th>14996</th>\n",
       "      <td>2236.635825</td>\n",
       "    </tr>\n",
       "    <tr>\n",
       "      <th>14997</th>\n",
       "      <td>2468.577398</td>\n",
       "    </tr>\n",
       "    <tr>\n",
       "      <th>14998</th>\n",
       "      <td>11752.025645</td>\n",
       "    </tr>\n",
       "    <tr>\n",
       "      <th>14999</th>\n",
       "      <td>1542.721279</td>\n",
       "    </tr>\n",
       "  </tbody>\n",
       "</table>\n",
       "<p>15000 rows × 1 columns</p>\n",
       "</div>"
      ],
      "text/plain": [
       "                  0\n",
       "0       3498.954516\n",
       "1       -552.107797\n",
       "2       1488.510551\n",
       "3       2910.827241\n",
       "4         57.521286\n",
       "...             ...\n",
       "14995   4839.931049\n",
       "14996   2236.635825\n",
       "14997   2468.577398\n",
       "14998  11752.025645\n",
       "14999   1542.721279\n",
       "\n",
       "[15000 rows x 1 columns]"
      ]
     },
     "metadata": {},
     "output_type": "display_data"
    },
    {
     "data": {
      "text/html": [
       "<div>\n",
       "<style scoped>\n",
       "    .dataframe tbody tr th:only-of-type {\n",
       "        vertical-align: middle;\n",
       "    }\n",
       "\n",
       "    .dataframe tbody tr th {\n",
       "        vertical-align: top;\n",
       "    }\n",
       "\n",
       "    .dataframe thead th {\n",
       "        text-align: right;\n",
       "    }\n",
       "</style>\n",
       "<table border=\"1\" class=\"dataframe\">\n",
       "  <thead>\n",
       "    <tr style=\"text-align: right;\">\n",
       "      <th></th>\n",
       "      <th>0</th>\n",
       "    </tr>\n",
       "  </thead>\n",
       "  <tbody>\n",
       "    <tr>\n",
       "      <th>0</th>\n",
       "      <td>1140.207732</td>\n",
       "    </tr>\n",
       "    <tr>\n",
       "      <th>1</th>\n",
       "      <td>1507.477823</td>\n",
       "    </tr>\n",
       "    <tr>\n",
       "      <th>2</th>\n",
       "      <td>1120.228400</td>\n",
       "    </tr>\n",
       "    <tr>\n",
       "      <th>3</th>\n",
       "      <td>2900.754911</td>\n",
       "    </tr>\n",
       "    <tr>\n",
       "      <th>4</th>\n",
       "      <td>1371.638889</td>\n",
       "    </tr>\n",
       "    <tr>\n",
       "      <th>...</th>\n",
       "      <td>...</td>\n",
       "    </tr>\n",
       "    <tr>\n",
       "      <th>34995</th>\n",
       "      <td>5692.198398</td>\n",
       "    </tr>\n",
       "    <tr>\n",
       "      <th>34996</th>\n",
       "      <td>1040.401944</td>\n",
       "    </tr>\n",
       "    <tr>\n",
       "      <th>34997</th>\n",
       "      <td>3230.979796</td>\n",
       "    </tr>\n",
       "    <tr>\n",
       "      <th>34998</th>\n",
       "      <td>638.267320</td>\n",
       "    </tr>\n",
       "    <tr>\n",
       "      <th>34999</th>\n",
       "      <td>8685.745389</td>\n",
       "    </tr>\n",
       "  </tbody>\n",
       "</table>\n",
       "<p>35000 rows × 1 columns</p>\n",
       "</div>"
      ],
      "text/plain": [
       "                 0\n",
       "0      1140.207732\n",
       "1      1507.477823\n",
       "2      1120.228400\n",
       "3      2900.754911\n",
       "4      1371.638889\n",
       "...            ...\n",
       "34995  5692.198398\n",
       "34996  1040.401944\n",
       "34997  3230.979796\n",
       "34998   638.267320\n",
       "34999  8685.745389\n",
       "\n",
       "[35000 rows x 1 columns]"
      ]
     },
     "metadata": {},
     "output_type": "display_data"
    }
   ],
   "source": [
    "# predict the test samples\n",
    "test_prediction = model.predict(X_test)\n",
    "display(pd.DataFrame(test_prediction))\n",
    "\n",
    "# predict the train samples\n",
    "train_prediction = model.predict(X_train)\n",
    "display(pd.DataFrame(train_prediction))"
   ]
  },
  {
   "cell_type": "markdown",
   "id": "f76d0499",
   "metadata": {},
   "source": [
    "# check the summary of the trained data\n",
    "#R-Squared is from -1 to +1\n",
    "#p value determines the importance of the variable to the model ranging form 0 to 1. >=0.05 is considered not important.\n",
    "from regressors import stats\n",
    "stats.summary(model, X, y, list(X.columns))"
   ]
  },
  {
   "cell_type": "code",
   "execution_count": 24,
   "id": "b91854ee",
   "metadata": {},
   "outputs": [
    {
     "name": "stdout",
     "output_type": "stream",
     "text": [
      "Residuals:\n",
      "      Min        1Q    Median        3Q        Max\n",
      "-2780.364 1011.3962 2991.5875 5949.9693 37767.1885\n",
      "\n",
      "\n",
      "Coefficients:\n",
      "                Estimate  Std. Error   t value  p value\n",
      "_intercept  -7170.167209   34.597835 -207.2432      0.0\n",
      "carat        8770.933861   11.667858  751.7176      0.0\n",
      "cut_ord       142.709758    4.108496   34.7353      0.0\n",
      "color_ord     319.140495    2.539066  125.6921      0.0\n",
      "clarity_ord   533.126855    2.779341  191.8177      0.0\n",
      "---\n",
      "R-squared:  0.90383,    Adjusted R-squared:  0.90383\n",
      "F-statistic: 117470.76 on 4 features\n"
     ]
    }
   ],
   "source": [
    "from regressors import stats \n",
    "stats.summary(model, X, y, list(X.columns))"
   ]
  },
  {
   "cell_type": "code",
   "execution_count": 25,
   "id": "edfc36c9",
   "metadata": {},
   "outputs": [],
   "source": [
    "#! pip install regressors"
   ]
  },
  {
   "cell_type": "markdown",
   "id": "d9712863",
   "metadata": {},
   "source": [
    "#### Make prediction"
   ]
  },
  {
   "cell_type": "code",
   "execution_count": 26,
   "id": "02a57283",
   "metadata": {},
   "outputs": [],
   "source": [
    "# import the dataset to be predicted\n",
    "new_diamonds = pd.read_csv(\"Test_DS_new-diamonds.csv\")"
   ]
  },
  {
   "cell_type": "code",
   "execution_count": 27,
   "id": "34b69851",
   "metadata": {},
   "outputs": [
    {
     "data": {
      "text/html": [
       "<div>\n",
       "<style scoped>\n",
       "    .dataframe tbody tr th:only-of-type {\n",
       "        vertical-align: middle;\n",
       "    }\n",
       "\n",
       "    .dataframe tbody tr th {\n",
       "        vertical-align: top;\n",
       "    }\n",
       "\n",
       "    .dataframe thead th {\n",
       "        text-align: right;\n",
       "    }\n",
       "</style>\n",
       "<table border=\"1\" class=\"dataframe\">\n",
       "  <thead>\n",
       "    <tr style=\"text-align: right;\">\n",
       "      <th></th>\n",
       "      <th>carat</th>\n",
       "      <th>cut</th>\n",
       "      <th>color</th>\n",
       "      <th>clarity</th>\n",
       "    </tr>\n",
       "  </thead>\n",
       "  <tbody>\n",
       "    <tr>\n",
       "      <th>0</th>\n",
       "      <td>1.22</td>\n",
       "      <td>Premium</td>\n",
       "      <td>G</td>\n",
       "      <td>SI1</td>\n",
       "    </tr>\n",
       "    <tr>\n",
       "      <th>1</th>\n",
       "      <td>1.01</td>\n",
       "      <td>Good</td>\n",
       "      <td>G</td>\n",
       "      <td>VS2</td>\n",
       "    </tr>\n",
       "    <tr>\n",
       "      <th>2</th>\n",
       "      <td>0.71</td>\n",
       "      <td>Very Good</td>\n",
       "      <td>I</td>\n",
       "      <td>VS2</td>\n",
       "    </tr>\n",
       "    <tr>\n",
       "      <th>3</th>\n",
       "      <td>1.01</td>\n",
       "      <td>Ideal</td>\n",
       "      <td>D</td>\n",
       "      <td>SI2</td>\n",
       "    </tr>\n",
       "    <tr>\n",
       "      <th>4</th>\n",
       "      <td>0.27</td>\n",
       "      <td>Ideal</td>\n",
       "      <td>H</td>\n",
       "      <td>VVS2</td>\n",
       "    </tr>\n",
       "    <tr>\n",
       "      <th>...</th>\n",
       "      <td>...</td>\n",
       "      <td>...</td>\n",
       "      <td>...</td>\n",
       "      <td>...</td>\n",
       "    </tr>\n",
       "    <tr>\n",
       "      <th>2995</th>\n",
       "      <td>0.72</td>\n",
       "      <td>Ideal</td>\n",
       "      <td>F</td>\n",
       "      <td>SI2</td>\n",
       "    </tr>\n",
       "    <tr>\n",
       "      <th>2996</th>\n",
       "      <td>1.09</td>\n",
       "      <td>Premium</td>\n",
       "      <td>I</td>\n",
       "      <td>VS2</td>\n",
       "    </tr>\n",
       "    <tr>\n",
       "      <th>2997</th>\n",
       "      <td>1.05</td>\n",
       "      <td>Very Good</td>\n",
       "      <td>G</td>\n",
       "      <td>SI1</td>\n",
       "    </tr>\n",
       "    <tr>\n",
       "      <th>2998</th>\n",
       "      <td>0.70</td>\n",
       "      <td>Fair</td>\n",
       "      <td>G</td>\n",
       "      <td>SI1</td>\n",
       "    </tr>\n",
       "    <tr>\n",
       "      <th>2999</th>\n",
       "      <td>1.01</td>\n",
       "      <td>Very Good</td>\n",
       "      <td>F</td>\n",
       "      <td>SI1</td>\n",
       "    </tr>\n",
       "  </tbody>\n",
       "</table>\n",
       "<p>3000 rows × 4 columns</p>\n",
       "</div>"
      ],
      "text/plain": [
       "      carat        cut color clarity\n",
       "0      1.22    Premium     G     SI1\n",
       "1      1.01       Good     G     VS2\n",
       "2      0.71  Very Good     I     VS2\n",
       "3      1.01      Ideal     D     SI2\n",
       "4      0.27      Ideal     H    VVS2\n",
       "...     ...        ...   ...     ...\n",
       "2995   0.72      Ideal     F     SI2\n",
       "2996   1.09    Premium     I     VS2\n",
       "2997   1.05  Very Good     G     SI1\n",
       "2998   0.70       Fair     G     SI1\n",
       "2999   1.01  Very Good     F     SI1\n",
       "\n",
       "[3000 rows x 4 columns]"
      ]
     },
     "execution_count": 27,
     "metadata": {},
     "output_type": "execute_result"
    }
   ],
   "source": [
    "new_diamonds"
   ]
  },
  {
   "cell_type": "code",
   "execution_count": 28,
   "id": "725f6422",
   "metadata": {},
   "outputs": [],
   "source": [
    "# do some feature engineering on the dataset \n",
    "\n",
    "def cut_transform(new_diamonds):\n",
    "    value_in_column = new_diamonds[\"cut\"]\n",
    "    if value_in_column == \"Fair\":\n",
    "        result = 1\n",
    "    elif value_in_column == \"Good\":\n",
    "        result = 2\n",
    "    elif value_in_column == \"Very Good\":\n",
    "        result = 3\n",
    "    elif value_in_column == \"Ideal\":\n",
    "        result = 4\n",
    "    elif value_in_column == \"Premium\":\n",
    "        result = 5\n",
    "    return result"
   ]
  },
  {
   "cell_type": "code",
   "execution_count": 29,
   "id": "d78e4f8b",
   "metadata": {},
   "outputs": [],
   "source": [
    "new_diamonds[\"cut_ord\"] = new_diamonds.apply(cut_transform, axis = \"columns\")"
   ]
  },
  {
   "cell_type": "code",
   "execution_count": 30,
   "id": "40d1c7e2",
   "metadata": {},
   "outputs": [],
   "source": [
    "def color_transform(new_diamonds):\n",
    "    value_in_column = new_diamonds[\"color\"]\n",
    "    if value_in_column == \"J\":\n",
    "        result = 1\n",
    "    elif value_in_column == \"I\":\n",
    "        result = 2\n",
    "    elif value_in_column == \"H\":\n",
    "        result = 3\n",
    "    elif value_in_column == \"G\":\n",
    "        result = 4\n",
    "    elif value_in_column == \"F\":\n",
    "        result = 5\n",
    "    elif value_in_column == \"E\":\n",
    "        result = 6\n",
    "    elif value_in_column == \"D\":\n",
    "        result = 7\n",
    "    return result"
   ]
  },
  {
   "cell_type": "code",
   "execution_count": 31,
   "id": "a5849731",
   "metadata": {},
   "outputs": [],
   "source": [
    "new_diamonds[\"color_ord\"] = new_diamonds.apply(color_transform, axis = \"columns\")"
   ]
  },
  {
   "cell_type": "code",
   "execution_count": 32,
   "id": "143ac711",
   "metadata": {},
   "outputs": [],
   "source": [
    "def clarity_transform(new_diamonds):\n",
    "    value_in_column = new_diamonds[\"clarity\"]\n",
    "    if value_in_column == \"I1\":\n",
    "        result = 1\n",
    "    elif value_in_column == \"SI2\":\n",
    "        result = 2\n",
    "    elif value_in_column == \"SI1\":\n",
    "        result = 3\n",
    "    elif value_in_column == \"VS2\":\n",
    "        result = 4\n",
    "    elif value_in_column == \"VS1\":\n",
    "        result = 5\n",
    "    elif value_in_column == \"VVS2\":\n",
    "        result = 6\n",
    "    elif value_in_column == \"VVS1\":\n",
    "        result = 7\n",
    "    elif value_in_column == \"IF\":\n",
    "        result = 8\n",
    "    return result"
   ]
  },
  {
   "cell_type": "code",
   "execution_count": 33,
   "id": "52f6b25d",
   "metadata": {},
   "outputs": [],
   "source": [
    "new_diamonds[\"clarity_ord\"] = new_diamonds.apply(clarity_transform, axis = \"columns\")"
   ]
  },
  {
   "cell_type": "code",
   "execution_count": 34,
   "id": "9b1b3977",
   "metadata": {},
   "outputs": [],
   "source": [
    "new_diamonds = new_diamonds.drop(columns = [\"cut\",\"color\",\"clarity\"])"
   ]
  },
  {
   "cell_type": "code",
   "execution_count": 35,
   "id": "1c1c3de6",
   "metadata": {},
   "outputs": [
    {
     "data": {
      "text/html": [
       "<div>\n",
       "<style scoped>\n",
       "    .dataframe tbody tr th:only-of-type {\n",
       "        vertical-align: middle;\n",
       "    }\n",
       "\n",
       "    .dataframe tbody tr th {\n",
       "        vertical-align: top;\n",
       "    }\n",
       "\n",
       "    .dataframe thead th {\n",
       "        text-align: right;\n",
       "    }\n",
       "</style>\n",
       "<table border=\"1\" class=\"dataframe\">\n",
       "  <thead>\n",
       "    <tr style=\"text-align: right;\">\n",
       "      <th></th>\n",
       "      <th>carat</th>\n",
       "      <th>cut_ord</th>\n",
       "      <th>color_ord</th>\n",
       "      <th>clarity_ord</th>\n",
       "    </tr>\n",
       "  </thead>\n",
       "  <tbody>\n",
       "    <tr>\n",
       "      <th>0</th>\n",
       "      <td>1.22</td>\n",
       "      <td>5</td>\n",
       "      <td>4</td>\n",
       "      <td>3</td>\n",
       "    </tr>\n",
       "    <tr>\n",
       "      <th>1</th>\n",
       "      <td>1.01</td>\n",
       "      <td>2</td>\n",
       "      <td>4</td>\n",
       "      <td>4</td>\n",
       "    </tr>\n",
       "    <tr>\n",
       "      <th>2</th>\n",
       "      <td>0.71</td>\n",
       "      <td>3</td>\n",
       "      <td>2</td>\n",
       "      <td>4</td>\n",
       "    </tr>\n",
       "    <tr>\n",
       "      <th>3</th>\n",
       "      <td>1.01</td>\n",
       "      <td>4</td>\n",
       "      <td>7</td>\n",
       "      <td>2</td>\n",
       "    </tr>\n",
       "    <tr>\n",
       "      <th>4</th>\n",
       "      <td>0.27</td>\n",
       "      <td>4</td>\n",
       "      <td>3</td>\n",
       "      <td>6</td>\n",
       "    </tr>\n",
       "    <tr>\n",
       "      <th>...</th>\n",
       "      <td>...</td>\n",
       "      <td>...</td>\n",
       "      <td>...</td>\n",
       "      <td>...</td>\n",
       "    </tr>\n",
       "    <tr>\n",
       "      <th>2995</th>\n",
       "      <td>0.72</td>\n",
       "      <td>4</td>\n",
       "      <td>5</td>\n",
       "      <td>2</td>\n",
       "    </tr>\n",
       "    <tr>\n",
       "      <th>2996</th>\n",
       "      <td>1.09</td>\n",
       "      <td>5</td>\n",
       "      <td>2</td>\n",
       "      <td>4</td>\n",
       "    </tr>\n",
       "    <tr>\n",
       "      <th>2997</th>\n",
       "      <td>1.05</td>\n",
       "      <td>3</td>\n",
       "      <td>4</td>\n",
       "      <td>3</td>\n",
       "    </tr>\n",
       "    <tr>\n",
       "      <th>2998</th>\n",
       "      <td>0.70</td>\n",
       "      <td>1</td>\n",
       "      <td>4</td>\n",
       "      <td>3</td>\n",
       "    </tr>\n",
       "    <tr>\n",
       "      <th>2999</th>\n",
       "      <td>1.01</td>\n",
       "      <td>3</td>\n",
       "      <td>5</td>\n",
       "      <td>3</td>\n",
       "    </tr>\n",
       "  </tbody>\n",
       "</table>\n",
       "<p>3000 rows × 4 columns</p>\n",
       "</div>"
      ],
      "text/plain": [
       "      carat  cut_ord  color_ord  clarity_ord\n",
       "0      1.22        5          4            3\n",
       "1      1.01        2          4            4\n",
       "2      0.71        3          2            4\n",
       "3      1.01        4          7            2\n",
       "4      0.27        4          3            6\n",
       "...     ...      ...        ...          ...\n",
       "2995   0.72        4          5            2\n",
       "2996   1.09        5          2            4\n",
       "2997   1.05        3          4            3\n",
       "2998   0.70        1          4            3\n",
       "2999   1.01        3          5            3\n",
       "\n",
       "[3000 rows x 4 columns]"
      ]
     },
     "execution_count": 35,
     "metadata": {},
     "output_type": "execute_result"
    }
   ],
   "source": [
    "new_diamonds"
   ]
  },
  {
   "cell_type": "code",
   "execution_count": 36,
   "id": "f3b18799",
   "metadata": {},
   "outputs": [],
   "source": [
    "# predict the prices of the new dataset\n",
    "new_diamond_prediction = pd.DataFrame(model.predict(new_diamonds))"
   ]
  },
  {
   "cell_type": "code",
   "execution_count": 37,
   "id": "5ac5c6eb",
   "metadata": {},
   "outputs": [
    {
     "data": {
      "text/html": [
       "<div>\n",
       "<style scoped>\n",
       "    .dataframe tbody tr th:only-of-type {\n",
       "        vertical-align: middle;\n",
       "    }\n",
       "\n",
       "    .dataframe tbody tr th {\n",
       "        vertical-align: top;\n",
       "    }\n",
       "\n",
       "    .dataframe thead th {\n",
       "        text-align: right;\n",
       "    }\n",
       "</style>\n",
       "<table border=\"1\" class=\"dataframe\">\n",
       "  <thead>\n",
       "    <tr style=\"text-align: right;\">\n",
       "      <th></th>\n",
       "      <th>0</th>\n",
       "    </tr>\n",
       "  </thead>\n",
       "  <tbody>\n",
       "    <tr>\n",
       "      <th>0</th>\n",
       "      <td>7119.863435</td>\n",
       "    </tr>\n",
       "    <tr>\n",
       "      <th>1</th>\n",
       "      <td>5382.964905</td>\n",
       "    </tr>\n",
       "    <tr>\n",
       "      <th>2</th>\n",
       "      <td>2256.113515</td>\n",
       "    </tr>\n",
       "    <tr>\n",
       "      <th>3</th>\n",
       "      <td>5559.552196</td>\n",
       "    </tr>\n",
       "    <tr>\n",
       "      <th>4</th>\n",
       "      <td>-74.993421</td>\n",
       "    </tr>\n",
       "    <tr>\n",
       "      <th>...</th>\n",
       "      <td>...</td>\n",
       "    </tr>\n",
       "    <tr>\n",
       "      <th>2995</th>\n",
       "      <td>2377.700386</td>\n",
       "    </tr>\n",
       "    <tr>\n",
       "      <th>2996</th>\n",
       "      <td>5874.487898</td>\n",
       "    </tr>\n",
       "    <tr>\n",
       "      <th>2997</th>\n",
       "      <td>5343.385163</td>\n",
       "    </tr>\n",
       "    <tr>\n",
       "      <th>2998</th>\n",
       "      <td>1988.138795</td>\n",
       "    </tr>\n",
       "    <tr>\n",
       "      <th>2999</th>\n",
       "      <td>5311.688303</td>\n",
       "    </tr>\n",
       "  </tbody>\n",
       "</table>\n",
       "<p>3000 rows × 1 columns</p>\n",
       "</div>"
      ],
      "text/plain": [
       "                0\n",
       "0     7119.863435\n",
       "1     5382.964905\n",
       "2     2256.113515\n",
       "3     5559.552196\n",
       "4      -74.993421\n",
       "...           ...\n",
       "2995  2377.700386\n",
       "2996  5874.487898\n",
       "2997  5343.385163\n",
       "2998  1988.138795\n",
       "2999  5311.688303\n",
       "\n",
       "[3000 rows x 1 columns]"
      ]
     },
     "execution_count": 37,
     "metadata": {},
     "output_type": "execute_result"
    }
   ],
   "source": [
    "new_diamond_prediction"
   ]
  },
  {
   "cell_type": "code",
   "execution_count": 38,
   "id": "79aca2e1",
   "metadata": {},
   "outputs": [],
   "source": [
    "# join the predicted prices column to the predicted dataset\n",
    "predicted_diamonds = new_diamonds.join(new_diamond_prediction)"
   ]
  },
  {
   "cell_type": "code",
   "execution_count": 39,
   "id": "d572ebe7",
   "metadata": {},
   "outputs": [
    {
     "data": {
      "text/html": [
       "<div>\n",
       "<style scoped>\n",
       "    .dataframe tbody tr th:only-of-type {\n",
       "        vertical-align: middle;\n",
       "    }\n",
       "\n",
       "    .dataframe tbody tr th {\n",
       "        vertical-align: top;\n",
       "    }\n",
       "\n",
       "    .dataframe thead th {\n",
       "        text-align: right;\n",
       "    }\n",
       "</style>\n",
       "<table border=\"1\" class=\"dataframe\">\n",
       "  <thead>\n",
       "    <tr style=\"text-align: right;\">\n",
       "      <th></th>\n",
       "      <th>carat</th>\n",
       "      <th>cut_ord</th>\n",
       "      <th>color_ord</th>\n",
       "      <th>clarity_ord</th>\n",
       "      <th>0</th>\n",
       "    </tr>\n",
       "  </thead>\n",
       "  <tbody>\n",
       "    <tr>\n",
       "      <th>0</th>\n",
       "      <td>1.22</td>\n",
       "      <td>5</td>\n",
       "      <td>4</td>\n",
       "      <td>3</td>\n",
       "      <td>7119.863435</td>\n",
       "    </tr>\n",
       "    <tr>\n",
       "      <th>1</th>\n",
       "      <td>1.01</td>\n",
       "      <td>2</td>\n",
       "      <td>4</td>\n",
       "      <td>4</td>\n",
       "      <td>5382.964905</td>\n",
       "    </tr>\n",
       "    <tr>\n",
       "      <th>2</th>\n",
       "      <td>0.71</td>\n",
       "      <td>3</td>\n",
       "      <td>2</td>\n",
       "      <td>4</td>\n",
       "      <td>2256.113515</td>\n",
       "    </tr>\n",
       "    <tr>\n",
       "      <th>3</th>\n",
       "      <td>1.01</td>\n",
       "      <td>4</td>\n",
       "      <td>7</td>\n",
       "      <td>2</td>\n",
       "      <td>5559.552196</td>\n",
       "    </tr>\n",
       "    <tr>\n",
       "      <th>4</th>\n",
       "      <td>0.27</td>\n",
       "      <td>4</td>\n",
       "      <td>3</td>\n",
       "      <td>6</td>\n",
       "      <td>-74.993421</td>\n",
       "    </tr>\n",
       "    <tr>\n",
       "      <th>...</th>\n",
       "      <td>...</td>\n",
       "      <td>...</td>\n",
       "      <td>...</td>\n",
       "      <td>...</td>\n",
       "      <td>...</td>\n",
       "    </tr>\n",
       "    <tr>\n",
       "      <th>2995</th>\n",
       "      <td>0.72</td>\n",
       "      <td>4</td>\n",
       "      <td>5</td>\n",
       "      <td>2</td>\n",
       "      <td>2377.700386</td>\n",
       "    </tr>\n",
       "    <tr>\n",
       "      <th>2996</th>\n",
       "      <td>1.09</td>\n",
       "      <td>5</td>\n",
       "      <td>2</td>\n",
       "      <td>4</td>\n",
       "      <td>5874.487898</td>\n",
       "    </tr>\n",
       "    <tr>\n",
       "      <th>2997</th>\n",
       "      <td>1.05</td>\n",
       "      <td>3</td>\n",
       "      <td>4</td>\n",
       "      <td>3</td>\n",
       "      <td>5343.385163</td>\n",
       "    </tr>\n",
       "    <tr>\n",
       "      <th>2998</th>\n",
       "      <td>0.70</td>\n",
       "      <td>1</td>\n",
       "      <td>4</td>\n",
       "      <td>3</td>\n",
       "      <td>1988.138795</td>\n",
       "    </tr>\n",
       "    <tr>\n",
       "      <th>2999</th>\n",
       "      <td>1.01</td>\n",
       "      <td>3</td>\n",
       "      <td>5</td>\n",
       "      <td>3</td>\n",
       "      <td>5311.688303</td>\n",
       "    </tr>\n",
       "  </tbody>\n",
       "</table>\n",
       "<p>3000 rows × 5 columns</p>\n",
       "</div>"
      ],
      "text/plain": [
       "      carat  cut_ord  color_ord  clarity_ord            0\n",
       "0      1.22        5          4            3  7119.863435\n",
       "1      1.01        2          4            4  5382.964905\n",
       "2      0.71        3          2            4  2256.113515\n",
       "3      1.01        4          7            2  5559.552196\n",
       "4      0.27        4          3            6   -74.993421\n",
       "...     ...      ...        ...          ...          ...\n",
       "2995   0.72        4          5            2  2377.700386\n",
       "2996   1.09        5          2            4  5874.487898\n",
       "2997   1.05        3          4            3  5343.385163\n",
       "2998   0.70        1          4            3  1988.138795\n",
       "2999   1.01        3          5            3  5311.688303\n",
       "\n",
       "[3000 rows x 5 columns]"
      ]
     },
     "execution_count": 39,
     "metadata": {},
     "output_type": "execute_result"
    }
   ],
   "source": [
    "predicted_diamonds"
   ]
  },
  {
   "cell_type": "code",
   "execution_count": 40,
   "id": "3a52ae50",
   "metadata": {},
   "outputs": [
    {
     "data": {
      "text/html": [
       "<div>\n",
       "<style scoped>\n",
       "    .dataframe tbody tr th:only-of-type {\n",
       "        vertical-align: middle;\n",
       "    }\n",
       "\n",
       "    .dataframe tbody tr th {\n",
       "        vertical-align: top;\n",
       "    }\n",
       "\n",
       "    .dataframe thead th {\n",
       "        text-align: right;\n",
       "    }\n",
       "</style>\n",
       "<table border=\"1\" class=\"dataframe\">\n",
       "  <thead>\n",
       "    <tr style=\"text-align: right;\">\n",
       "      <th></th>\n",
       "      <th>carat</th>\n",
       "      <th>cut_ord</th>\n",
       "      <th>color_ord</th>\n",
       "      <th>clarity_ord</th>\n",
       "      <th>pred_price</th>\n",
       "    </tr>\n",
       "  </thead>\n",
       "  <tbody>\n",
       "    <tr>\n",
       "      <th>0</th>\n",
       "      <td>1.22</td>\n",
       "      <td>5</td>\n",
       "      <td>4</td>\n",
       "      <td>3</td>\n",
       "      <td>7119.863435</td>\n",
       "    </tr>\n",
       "    <tr>\n",
       "      <th>1</th>\n",
       "      <td>1.01</td>\n",
       "      <td>2</td>\n",
       "      <td>4</td>\n",
       "      <td>4</td>\n",
       "      <td>5382.964905</td>\n",
       "    </tr>\n",
       "    <tr>\n",
       "      <th>2</th>\n",
       "      <td>0.71</td>\n",
       "      <td>3</td>\n",
       "      <td>2</td>\n",
       "      <td>4</td>\n",
       "      <td>2256.113515</td>\n",
       "    </tr>\n",
       "    <tr>\n",
       "      <th>3</th>\n",
       "      <td>1.01</td>\n",
       "      <td>4</td>\n",
       "      <td>7</td>\n",
       "      <td>2</td>\n",
       "      <td>5559.552196</td>\n",
       "    </tr>\n",
       "    <tr>\n",
       "      <th>4</th>\n",
       "      <td>0.27</td>\n",
       "      <td>4</td>\n",
       "      <td>3</td>\n",
       "      <td>6</td>\n",
       "      <td>-74.993421</td>\n",
       "    </tr>\n",
       "    <tr>\n",
       "      <th>...</th>\n",
       "      <td>...</td>\n",
       "      <td>...</td>\n",
       "      <td>...</td>\n",
       "      <td>...</td>\n",
       "      <td>...</td>\n",
       "    </tr>\n",
       "    <tr>\n",
       "      <th>2995</th>\n",
       "      <td>0.72</td>\n",
       "      <td>4</td>\n",
       "      <td>5</td>\n",
       "      <td>2</td>\n",
       "      <td>2377.700386</td>\n",
       "    </tr>\n",
       "    <tr>\n",
       "      <th>2996</th>\n",
       "      <td>1.09</td>\n",
       "      <td>5</td>\n",
       "      <td>2</td>\n",
       "      <td>4</td>\n",
       "      <td>5874.487898</td>\n",
       "    </tr>\n",
       "    <tr>\n",
       "      <th>2997</th>\n",
       "      <td>1.05</td>\n",
       "      <td>3</td>\n",
       "      <td>4</td>\n",
       "      <td>3</td>\n",
       "      <td>5343.385163</td>\n",
       "    </tr>\n",
       "    <tr>\n",
       "      <th>2998</th>\n",
       "      <td>0.70</td>\n",
       "      <td>1</td>\n",
       "      <td>4</td>\n",
       "      <td>3</td>\n",
       "      <td>1988.138795</td>\n",
       "    </tr>\n",
       "    <tr>\n",
       "      <th>2999</th>\n",
       "      <td>1.01</td>\n",
       "      <td>3</td>\n",
       "      <td>5</td>\n",
       "      <td>3</td>\n",
       "      <td>5311.688303</td>\n",
       "    </tr>\n",
       "  </tbody>\n",
       "</table>\n",
       "<p>3000 rows × 5 columns</p>\n",
       "</div>"
      ],
      "text/plain": [
       "      carat  cut_ord  color_ord  clarity_ord   pred_price\n",
       "0      1.22        5          4            3  7119.863435\n",
       "1      1.01        2          4            4  5382.964905\n",
       "2      0.71        3          2            4  2256.113515\n",
       "3      1.01        4          7            2  5559.552196\n",
       "4      0.27        4          3            6   -74.993421\n",
       "...     ...      ...        ...          ...          ...\n",
       "2995   0.72        4          5            2  2377.700386\n",
       "2996   1.09        5          2            4  5874.487898\n",
       "2997   1.05        3          4            3  5343.385163\n",
       "2998   0.70        1          4            3  1988.138795\n",
       "2999   1.01        3          5            3  5311.688303\n",
       "\n",
       "[3000 rows x 5 columns]"
      ]
     },
     "execution_count": 40,
     "metadata": {},
     "output_type": "execute_result"
    }
   ],
   "source": [
    "# rename the predicted price column\n",
    "predicted_diamonds = predicted_diamonds.rename(columns = {0:\"pred_price\"})\n",
    "predicted_diamonds"
   ]
  },
  {
   "cell_type": "markdown",
   "id": "90019bca",
   "metadata": {},
   "source": [
    "### Make Recommendations"
   ]
  },
  {
   "cell_type": "markdown",
   "id": "5f3880a4",
   "metadata": {},
   "source": [
    "#### Do some necessary calculations"
   ]
  },
  {
   "cell_type": "code",
   "execution_count": 41,
   "id": "f5bf4fb4",
   "metadata": {},
   "outputs": [],
   "source": [
    "#Find the sum of predicted price column?\n",
    "#sum_price = cumsum(axis=None,columns(pred_price))\n",
    "#sum_price = axis:{index(0), columns (pred_price)}\n",
    "#sum_price = sum_price.cumsum (self, axis=None, skipna=True, *args, **kwargs)\n",
    "#sum_price[[[\"pred_price\"]].cumsum(axis=0)\n",
    "#new_diamonds[\"Sum\"]=new_diamonds[\"pred_price\"].sum (axis=0)\n",
    "#new_diamonds\n",
    "#print(new_diamonds[\"cut_ord\"])\n",
    "#print(new_diamonds[\"cut_ord\"].sum())\n",
    "#print(new_diamonds[\"pred_price\"])\n"
   ]
  },
  {
   "cell_type": "code",
   "execution_count": 42,
   "id": "c9fae627",
   "metadata": {},
   "outputs": [
    {
     "name": "stdout",
     "output_type": "stream",
     "text": [
      "0       5\n",
      "1       2\n",
      "2       3\n",
      "3       4\n",
      "4       4\n",
      "       ..\n",
      "2995    4\n",
      "2996    5\n",
      "2997    3\n",
      "2998    1\n",
      "2999    3\n",
      "Name: cut_ord, Length: 3000, dtype: int64\n"
     ]
    }
   ],
   "source": [
    "print(predicted_diamonds[\"cut_ord\"])"
   ]
  },
  {
   "cell_type": "code",
   "execution_count": 43,
   "id": "03e06544",
   "metadata": {},
   "outputs": [
    {
     "name": "stdout",
     "output_type": "stream",
     "text": [
      "11286\n"
     ]
    }
   ],
   "source": [
    "print(predicted_diamonds[\"cut_ord\"].sum())"
   ]
  },
  {
   "cell_type": "code",
   "execution_count": 44,
   "id": "104baf97",
   "metadata": {},
   "outputs": [
    {
     "name": "stdout",
     "output_type": "stream",
     "text": [
      "0       7119.863435\n",
      "1       5382.964905\n",
      "2       2256.113515\n",
      "3       5559.552196\n",
      "4        -74.993421\n",
      "           ...     \n",
      "2995    2377.700386\n",
      "2996    5874.487898\n",
      "2997    5343.385163\n",
      "2998    1988.138795\n",
      "2999    5311.688303\n",
      "Name: pred_price, Length: 3000, dtype: float64\n"
     ]
    }
   ],
   "source": [
    "print(predicted_diamonds[\"pred_price\"])"
   ]
  },
  {
   "cell_type": "code",
   "execution_count": 45,
   "id": "8a86f642",
   "metadata": {},
   "outputs": [
    {
     "name": "stdout",
     "output_type": "stream",
     "text": [
      "11738443.26062572\n"
     ]
    }
   ],
   "source": [
    "#sum_price = print(predicted_diamonds[\"pred_price\"].sum()) \n",
    "#OR\n",
    "sum_price = (predicted_diamonds[\"pred_price\"].sum())\n",
    "print (sum_price)"
   ]
  },
  {
   "cell_type": "code",
   "execution_count": 46,
   "id": "9b248d4a",
   "metadata": {},
   "outputs": [
    {
     "name": "stdout",
     "output_type": "stream",
     "text": [
      "8216910.282438003\n"
     ]
    }
   ],
   "source": [
    "#Take into account the 70% price to bid\n",
    "#print(predicted_diamonds[\"pred_price\"].sum() * 0.7)\n",
    "#OR\n",
    "sum_price*.7\n",
    "print (sum_price*0.7)"
   ]
  },
  {
   "cell_type": "code",
   "execution_count": 47,
   "id": "2a0bded1",
   "metadata": {},
   "outputs": [
    {
     "name": "stdout",
     "output_type": "stream",
     "text": [
      "4695377.304250288\n"
     ]
    }
   ],
   "source": [
    "print(predicted_diamonds[\"pred_price\"].sum() * 0.4)"
   ]
  },
  {
   "cell_type": "markdown",
   "id": "6b8923e8",
   "metadata": {},
   "source": [
    "##### What price do you recommend that the company should bid?\n"
   ]
  },
  {
   "cell_type": "markdown",
   "id": "514dc7f0",
   "metadata": {},
   "source": [
    "Value of Diamonds purchased previously by the company was worth approximately 197 million however, the company buys at 70% of the actual price rate resulting in a purchase of approximately 138 million. \n",
    "\n",
    "A company willing to sell same number of Diamonds at approximately 12 million shows that these Diamonds are not the best of quality when compared to what the company will usually purchase however the diamonds can still be sold. \n",
    "\n",
    "I therefore will recommend that the company bids the product at a lower percentage than 70% which gives approximately 83 million hence would suggest to bid at 40% which gives 47 million to prevent high loss of capital or stuck capital due to delay in sales."
   ]
  },
  {
   "cell_type": "markdown",
   "id": "ee3ce803",
   "metadata": {},
   "source": [
    "### Thank You."
   ]
  }
 ],
 "metadata": {
  "kernelspec": {
   "display_name": "Python 3",
   "language": "python",
   "name": "python3"
  },
  "language_info": {
   "codemirror_mode": {
    "name": "ipython",
    "version": 3
   },
   "file_extension": ".py",
   "mimetype": "text/x-python",
   "name": "python",
   "nbconvert_exporter": "python",
   "pygments_lexer": "ipython3",
   "version": "3.8.8"
  }
 },
 "nbformat": 4,
 "nbformat_minor": 5
}
